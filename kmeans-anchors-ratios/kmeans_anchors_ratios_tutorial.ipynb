{
 "cells": [
  {
   "cell_type": "markdown",
   "metadata": {},
   "source": [
    "# K-Means Anchors Ratios Tutorial"
   ]
  },
  {
   "cell_type": "code",
   "execution_count": 1,
   "metadata": {},
   "outputs": [],
   "source": [
    "import json\n",
    "import numpy as np\n",
    "import os\n",
    "\n",
    "%load_ext autoreload\n",
    "%autoreload 2"
   ]
  },
  {
   "cell_type": "markdown",
   "metadata": {},
   "source": [
    "## Get dataset instances"
   ]
  },
  {
   "cell_type": "code",
   "execution_count": 2,
   "metadata": {},
   "outputs": [],
   "source": [
    "INSTANCES_PATH = \"./annotations/instances_train.json\"\n",
    "with open(INSTANCES_PATH) as f:\n",
    "    instances = json.load(f)"
   ]
  },
  {
   "cell_type": "markdown",
   "metadata": {},
   "source": [
    "## Get optimal anchors ratios"
   ]
  },
  {
   "cell_type": "code",
   "execution_count": 3,
   "metadata": {},
   "outputs": [
    {
     "data": {
      "text/plain": [
       "[32.0,\n",
       " 40.31747359663594,\n",
       " 50.79683366298238,\n",
       " 64.0,\n",
       " 80.63494719327188,\n",
       " 101.59366732596476,\n",
       " 128.0,\n",
       " 161.26989438654377,\n",
       " 203.18733465192952,\n",
       " 256.0,\n",
       " 322.53978877308754,\n",
       " 406.37466930385904,\n",
       " 512.0,\n",
       " 645.0795775461751,\n",
       " 812.7493386077181]"
      ]
     },
     "execution_count": 3,
     "metadata": {},
     "output_type": "execute_result"
    }
   ],
   "source": [
    "## change the following parameters according to your model:\n",
    "\n",
    "# EfficientDetD{PHI}\n",
    "PHI = 2  # for another efficientdet change only this, e.g. PHI = 3 for D3\n",
    "\n",
    "input_sizes = [512, 640, 768, 896, 1024, 1280, 1280, 1536, 1536]\n",
    "pyramid_levels = [5, 5, 5, 5, 5, 5, 5, 5, 6]\n",
    "anchor_scale = [4.0, 4.0, 4.0, 4.0, 4.0, 4.0, 4.0, 5.0, 4.0]\n",
    "\n",
    "scale = anchor_scale[PHI]\n",
    "strides = 2 ** np.arange(3, pyramid_levels[PHI] + 3)\n",
    "scales = np.array([2 ** 0, 2 ** (1.0 / 3.0), 2 ** (2.0 / 3.0)])\n",
    "\n",
    "INPUT_SIZE = input_sizes[PHI]\n",
    "ANCHORS_SIZES = (scale * scales * strides[:, np.newaxis]).flatten().tolist()\n",
    "ANCHORS_SIZES"
   ]
  },
  {
   "cell_type": "code",
   "execution_count": 4,
   "metadata": {},
   "outputs": [
    {
     "name": "stdout",
     "output_type": "stream",
     "text": [
      "[03/24 20:50:39] Starting the calculation of the optimal anchors ratios\n",
      "[03/24 20:50:39] Extracting and preprocessing bounding boxes\n",
      "[03/24 20:50:39] Discarding 0 bounding boxes with size lower or equal to 0\n"
     ]
    },
    {
     "name": "stderr",
     "output_type": "stream",
     "text": [
      "[03/24 20:50:39] K-Means (3 runs): 100%|██████████████████| 3/3 [00:00<00:00,  3.96it/s]"
     ]
    },
    {
     "name": "stdout",
     "output_type": "stream",
     "text": [
      "\tRuns avg. IoU: 95.09% ± 0.00% (mean ± std. dev. of 3 runs, 0 skipped)\n",
      "\tAvg. IoU between bboxes and their most similar anchors after norm. them to make their area equal (only ratios matter): 95.09%\n"
     ]
    },
    {
     "name": "stderr",
     "output_type": "stream",
     "text": [
      "\n"
     ]
    },
    {
     "name": "stdout",
     "output_type": "stream",
     "text": [
      "[03/24 20:50:41] Default anchors ratios: [(0.7, 1.4), (1.0, 1.0), (1.4, 0.7)]\n",
      "\tAvg. IoU between bboxes and their most similar default anchors, no norm. (both ratios and sizes matter): 86.22%\n",
      "\tNum. bboxes without similar default anchors (IoU < 0.5):  0/80113 (0.00%)\n",
      "[03/24 20:50:41] K-Means anchors ratios: [(0.9, 1.1), (1.0, 1.0), (1.1, 0.9)]\n",
      "\tAvg. IoU between bboxes and their most similar K-Means anchors, no norm. (both ratios and sizes matter): 88.07%\n",
      "\tNum. bboxes without similar K-Means anchors (IoU < 0.5):  10/80113 (0.01%)\n",
      "[03/24 20:50:41] Default anchors have an IoU < 50% with bboxes in 0.01% less cases than the K-Means anchors, you should consider stick with them\n"
     ]
    }
   ],
   "source": [
    "from kmeans_anchors_ratios import get_optimal_anchors_ratios\n",
    "\n",
    "anchors_ratios = get_optimal_anchors_ratios(\n",
    "    instances,\n",
    "    anchors_sizes=ANCHORS_SIZES,\n",
    "    input_size=INPUT_SIZE,\n",
    "    normalizes_bboxes=True,\n",
    "    num_runs=3,\n",
    "    num_anchors_ratios=3,\n",
    "    max_iter=300,\n",
    "    iou_threshold=0.5,\n",
    "    min_size=0,\n",
    "    decimals=1,\n",
    "    default_anchors_ratios=[(0.7, 1.4), (1.0, 1.0), (1.4, 0.7)]\n",
    ")"
   ]
  },
  {
   "cell_type": "code",
   "execution_count": 5,
   "metadata": {},
   "outputs": [
    {
     "data": {
      "text/plain": [
       "[(0.9, 1.1), (1.0, 1.0), (1.1, 0.9)]"
      ]
     },
     "execution_count": 5,
     "metadata": {},
     "output_type": "execute_result"
    }
   ],
   "source": [
    "anchors_ratios"
   ]
  },
  {
   "cell_type": "markdown",
   "metadata": {},
   "source": [
    "## Generate anchors given ratios and sizes"
   ]
  },
  {
   "cell_type": "code",
   "execution_count": 6,
   "metadata": {},
   "outputs": [
    {
     "name": "stdout",
     "output_type": "stream",
     "text": [
      "Anchors:\n",
      "[[ 28.8         35.2       ]\n",
      " [ 32.          32.        ]\n",
      " [ 35.2         28.8       ]\n",
      " [ 36.28572624  44.34922096]\n",
      " [ 40.3174736   40.3174736 ]\n",
      " [ 44.34922096  36.28572624]\n",
      " [ 45.7171503   55.87651703]\n",
      " [ 50.79683366  50.79683366]\n",
      " [ 55.87651703  45.7171503 ]\n",
      " [ 57.6         70.4       ]\n",
      " [ 64.          64.        ]\n",
      " [ 70.4         57.6       ]\n",
      " [ 72.57145247  88.69844191]\n",
      " [ 80.63494719  80.63494719]\n",
      " [ 88.69844191  72.57145247]\n",
      " [ 91.43430059 111.75303406]\n",
      " [101.59366733 101.59366733]\n",
      " [111.75303406  91.43430059]\n",
      " [115.2        140.8       ]\n",
      " [128.         128.        ]\n",
      " [140.8        115.2       ]\n",
      " [145.14290495 177.39688383]\n",
      " [161.26989439 161.26989439]\n",
      " [177.39688383 145.14290495]\n",
      " [182.86860119 223.50606812]\n",
      " [203.18733465 203.18733465]\n",
      " [223.50606812 182.86860119]\n",
      " [230.4        281.6       ]\n",
      " [256.         256.        ]\n",
      " [281.6        230.4       ]\n",
      " [290.2858099  354.79376765]\n",
      " [322.53978877 322.53978877]\n",
      " [354.79376765 290.2858099 ]\n",
      " [365.73720237 447.01213623]\n",
      " [406.3746693  406.3746693 ]\n",
      " [447.01213623 365.73720237]\n",
      " [460.8        563.2       ]\n",
      " [512.         512.        ]\n",
      " [563.2        460.8       ]\n",
      " [580.57161979 709.5875353 ]\n",
      " [645.07957755 645.07957755]\n",
      " [709.5875353  580.57161979]\n",
      " [731.47440475 894.02427247]\n",
      " [812.74933861 812.74933861]\n",
      " [894.02427247 731.47440475]]\n"
     ]
    }
   ],
   "source": [
    "from kmeans_anchors_ratios import generate_anchors_given_ratios_and_sizes\n",
    "\n",
    "\n",
    "anchors = generate_anchors_given_ratios_and_sizes(anchors_ratios, ANCHORS_SIZES)\n",
    "print(\"Anchors:\")\n",
    "print(anchors)"
   ]
  },
  {
   "cell_type": "markdown",
   "metadata": {},
   "source": [
    "## Get bounding boxes adapted to the input size"
   ]
  },
  {
   "cell_type": "code",
   "execution_count": 7,
   "metadata": {},
   "outputs": [
    {
     "name": "stdout",
     "output_type": "stream",
     "text": [
      "Bounding boxes adapted to the input size (first 5):\n",
      "[[48.   48.48]\n",
      " [48.   49.44]\n",
      " [51.84 53.28]\n",
      " [48.96 49.92]\n",
      " [58.56 54.72]]\n"
     ]
    }
   ],
   "source": [
    "from kmeans_anchors_ratios import get_bboxes_adapted_to_input_size\n",
    "\n",
    "\n",
    "resized_bboxes = get_bboxes_adapted_to_input_size(instances, input_size=INPUT_SIZE)\n",
    "resized_bboxes = resized_bboxes[resized_bboxes.prod(axis=1) > 0]  # remove 0 size\n",
    "print(\"Bounding boxes adapted to the input size (first 5):\")\n",
    "print(resized_bboxes[:5])"
   ]
  },
  {
   "cell_type": "markdown",
   "metadata": {},
   "source": [
    "## Get the avg. IoU between the bounding boxes and their closest anchors"
   ]
  },
  {
   "cell_type": "code",
   "execution_count": 8,
   "metadata": {},
   "outputs": [
    {
     "name": "stdout",
     "output_type": "stream",
     "text": [
      "Avg. IoU: 88.07%\n"
     ]
    }
   ],
   "source": [
    "from kmeans_anchors_ratios import average_iou\n",
    "\n",
    "\n",
    "avg_iou = average_iou(resized_bboxes, anchors)\n",
    "print(f\"Avg. IoU: {100 * avg_iou:.2f}%\")"
   ]
  },
  {
   "cell_type": "markdown",
   "metadata": {},
   "source": [
    "## Get annotations whose bounding boxes don't have similar anchors"
   ]
  },
  {
   "cell_type": "code",
   "execution_count": 9,
   "metadata": {},
   "outputs": [
    {
     "name": "stdout",
     "output_type": "stream",
     "text": [
      "Bounding boxes without similar anchors (first 5):\n",
      "[[249, 88], [191, 67], [207, 69], [62, 175], [224, 75]]\n",
      "Bounding boxes without similar anchors adapted to the input size (first 5):\n",
      "[[119.52  42.24]\n",
      " [ 91.68  32.16]\n",
      " [ 99.36  33.12]\n",
      " [ 29.76  84.  ]\n",
      " [107.52  36.  ]]\n"
     ]
    }
   ],
   "source": [
    "from kmeans_anchors_ratios import get_annotations_without_similar_anchors\n",
    "\n",
    "\n",
    "annotations = get_annotations_without_similar_anchors(\n",
    "    instances,\n",
    "    anchors_ratios,\n",
    "    anchors_sizes=ANCHORS_SIZES,\n",
    "    input_size=INPUT_SIZE,\n",
    "    iou_threshold=0.5,\n",
    "    min_size=0,\n",
    ")\n",
    "\n",
    "bboxes = [ann[\"bbox\"][-2:] for ann in annotations]  # widths and heights\n",
    "print(\"Bounding boxes without similar anchors (first 5):\")\n",
    "print(bboxes[:5])\n",
    "\n",
    "instances_without_similar_anchors = instances.copy()\n",
    "instances_without_similar_anchors[\"annotations\"] = annotations\n",
    "resized_bboxes = get_bboxes_adapted_to_input_size(instances_without_similar_anchors, input_size=INPUT_SIZE)\n",
    "print(\"Bounding boxes without similar anchors adapted to the input size (first 5):\")\n",
    "print(resized_bboxes[:5])"
   ]
  },
  {
   "cell_type": "code",
   "execution_count": null,
   "metadata": {},
   "outputs": [],
   "source": []
  }
 ],
 "metadata": {
  "kernelspec": {
   "display_name": "Python 3",
   "language": "python",
   "name": "python3"
  },
  "language_info": {
   "codemirror_mode": {
    "name": "ipython",
    "version": 3
   },
   "file_extension": ".py",
   "mimetype": "text/x-python",
   "name": "python",
   "nbconvert_exporter": "python",
   "pygments_lexer": "ipython3",
   "version": "3.7.9"
  }
 },
 "nbformat": 4,
 "nbformat_minor": 4
}
